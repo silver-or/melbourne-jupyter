{
 "cells": [
  {
   "cell_type": "code",
   "execution_count": 1,
   "metadata": {},
   "outputs": [
    {
     "name": "stdout",
     "output_type": "stream",
     "text": [
      "2.6.0\n"
     ]
    }
   ],
   "source": [
    "import tensorflow as tf\n",
    "from tensorflow import keras\n",
    "\n",
    "import numpy as np\n",
    "\n",
    "print(tf.__version__)"
   ]
  },
  {
   "cell_type": "code",
   "execution_count": 2,
   "id": "63d93e8d",
   "metadata": {},
   "outputs": [],
   "source": [
    "imdb = keras.datasets.imdb\n",
    "\n",
    "(train_data, train_labels), (test_data, test_labels) = imdb.load_data(num_words=10000)"
   ]
  },
  {
   "cell_type": "code",
   "execution_count": 3,
   "id": "47499578",
   "metadata": {},
   "outputs": [
    {
     "name": "stdout",
     "output_type": "stream",
     "text": [
      "훈련 샘플: 25000, 레이블: 25000\n"
     ]
    }
   ],
   "source": [
    "print(\"훈련 샘플: {}, 레이블: {}\".format(len(train_data), len(train_labels)))"
   ]
  },
  {
   "cell_type": "code",
   "execution_count": 4,
   "id": "b2eb0d32",
   "metadata": {},
   "outputs": [
    {
     "name": "stdout",
     "output_type": "stream",
     "text": [
      "[1, 14, 22, 16, 43, 530, 973, 1622, 1385, 65, 458, 4468, 66, 3941, 4, 173, 36, 256, 5, 25, 100, 43, 838, 112, 50, 670, 2, 9, 35, 480, 284, 5, 150, 4, 172, 112, 167, 2, 336, 385, 39, 4, 172, 4536, 1111, 17, 546, 38, 13, 447, 4, 192, 50, 16, 6, 147, 2025, 19, 14, 22, 4, 1920, 4613, 469, 4, 22, 71, 87, 12, 16, 43, 530, 38, 76, 15, 13, 1247, 4, 22, 17, 515, 17, 12, 16, 626, 18, 2, 5, 62, 386, 12, 8, 316, 8, 106, 5, 4, 2223, 5244, 16, 480, 66, 3785, 33, 4, 130, 12, 16, 38, 619, 5, 25, 124, 51, 36, 135, 48, 25, 1415, 33, 6, 22, 12, 215, 28, 77, 52, 5, 14, 407, 16, 82, 2, 8, 4, 107, 117, 5952, 15, 256, 4, 2, 7, 3766, 5, 723, 36, 71, 43, 530, 476, 26, 400, 317, 46, 7, 4, 2, 1029, 13, 104, 88, 4, 381, 15, 297, 98, 32, 2071, 56, 26, 141, 6, 194, 7486, 18, 4, 226, 22, 21, 134, 476, 26, 480, 5, 144, 30, 5535, 18, 51, 36, 28, 224, 92, 25, 104, 4, 226, 65, 16, 38, 1334, 88, 12, 16, 283, 5, 16, 4472, 113, 103, 32, 15, 16, 5345, 19, 178, 32]\n"
     ]
    }
   ],
   "source": [
    "print(train_data[0])"
   ]
  },
  {
   "cell_type": "code",
   "execution_count": 5,
   "id": "a825baec",
   "metadata": {},
   "outputs": [
    {
     "data": {
      "text/plain": [
       "(218, 189)"
      ]
     },
     "execution_count": 5,
     "metadata": {},
     "output_type": "execute_result"
    }
   ],
   "source": [
    "len(train_data[0]), len(train_data[1])"
   ]
  },
  {
   "cell_type": "code",
   "execution_count": 6,
   "id": "7172df60",
   "metadata": {},
   "outputs": [],
   "source": [
    "# 단어와 정수 인덱스를 매핑한 딕셔너리\n",
    "word_index = imdb.get_word_index()\n",
    "\n",
    "# 처음 몇 개 인덱스는 사전에 정의되어 있습니다\n",
    "word_index = {k:(v+3) for k,v in word_index.items()}\n",
    "word_index[\"<PAD>\"] = 0\n",
    "word_index[\"<START>\"] = 1\n",
    "word_index[\"<UNK>\"] = 2  # unknown\n",
    "word_index[\"<UNUSED>\"] = 3\n",
    "\n",
    "reverse_word_index = dict([(value, key) for (key, value) in word_index.items()])\n",
    "\n",
    "def decode_review(text):\n",
    "    return ' '.join([reverse_word_index.get(i, '?') for i in text])"
   ]
  },
  {
   "cell_type": "code",
   "execution_count": 7,
   "id": "c7788ded",
   "metadata": {},
   "outputs": [
    {
     "data": {
      "text/plain": [
       "\"<START> this film was just brilliant casting location scenery story direction everyone's really suited the part they played and you could just imagine being there robert <UNK> is an amazing actor and now the same being director <UNK> father came from the same scottish island as myself so i loved the fact there was a real connection with this film the witty remarks throughout the film were great it was just brilliant so much that i bought the film as soon as it was released for <UNK> and would recommend it to everyone to watch and the fly fishing was amazing really cried at the end it was so sad and you know what they say if you cry at a film it must have been good and this definitely was also <UNK> to the two little boy's that played the <UNK> of norman and paul they were just brilliant children are often left out of the <UNK> list i think because the stars that play them all grown up are such a big profile for the whole film but these children are amazing and should be praised for what they have done don't you think the whole story was so lovely because it was true and was someone's life after all that was shared with us all\""
      ]
     },
     "execution_count": 7,
     "metadata": {},
     "output_type": "execute_result"
    }
   ],
   "source": [
    "decode_review(train_data[0])"
   ]
  },
  {
   "cell_type": "code",
   "execution_count": 8,
   "id": "24406bfd",
   "metadata": {},
   "outputs": [],
   "source": [
    "train_data = keras.preprocessing.sequence.pad_sequences(train_data,\n",
    "                                                        value=word_index[\"<PAD>\"],\n",
    "                                                        padding='post',\n",
    "                                                        maxlen=256)\n",
    "\n",
    "test_data = keras.preprocessing.sequence.pad_sequences(test_data,\n",
    "                                                       value=word_index[\"<PAD>\"],\n",
    "                                                       padding='post',\n",
    "                                                       maxlen=256)"
   ]
  },
  {
   "cell_type": "code",
   "execution_count": 9,
   "id": "8e6972f0",
   "metadata": {},
   "outputs": [
    {
     "data": {
      "text/plain": [
       "(256, 256)"
      ]
     },
     "execution_count": 9,
     "metadata": {},
     "output_type": "execute_result"
    }
   ],
   "source": [
    "len(train_data[0]), len(train_data[1])"
   ]
  },
  {
   "cell_type": "code",
   "execution_count": 10,
   "id": "5f2d2dcc",
   "metadata": {},
   "outputs": [
    {
     "name": "stdout",
     "output_type": "stream",
     "text": [
      "[   1   14   22   16   43  530  973 1622 1385   65  458 4468   66 3941\n",
      "    4  173   36  256    5   25  100   43  838  112   50  670    2    9\n",
      "   35  480  284    5  150    4  172  112  167    2  336  385   39    4\n",
      "  172 4536 1111   17  546   38   13  447    4  192   50   16    6  147\n",
      " 2025   19   14   22    4 1920 4613  469    4   22   71   87   12   16\n",
      "   43  530   38   76   15   13 1247    4   22   17  515   17   12   16\n",
      "  626   18    2    5   62  386   12    8  316    8  106    5    4 2223\n",
      " 5244   16  480   66 3785   33    4  130   12   16   38  619    5   25\n",
      "  124   51   36  135   48   25 1415   33    6   22   12  215   28   77\n",
      "   52    5   14  407   16   82    2    8    4  107  117 5952   15  256\n",
      "    4    2    7 3766    5  723   36   71   43  530  476   26  400  317\n",
      "   46    7    4    2 1029   13  104   88    4  381   15  297   98   32\n",
      " 2071   56   26  141    6  194 7486   18    4  226   22   21  134  476\n",
      "   26  480    5  144   30 5535   18   51   36   28  224   92   25  104\n",
      "    4  226   65   16   38 1334   88   12   16  283    5   16 4472  113\n",
      "  103   32   15   16 5345   19  178   32    0    0    0    0    0    0\n",
      "    0    0    0    0    0    0    0    0    0    0    0    0    0    0\n",
      "    0    0    0    0    0    0    0    0    0    0    0    0    0    0\n",
      "    0    0    0    0]\n"
     ]
    }
   ],
   "source": [
    "print(train_data[0])"
   ]
  },
  {
   "cell_type": "code",
   "execution_count": 11,
   "id": "7f90010d",
   "metadata": {},
   "outputs": [
    {
     "name": "stdout",
     "output_type": "stream",
     "text": [
      "Model: \"sequential\"\n",
      "_________________________________________________________________\n",
      "Layer (type)                 Output Shape              Param #   \n",
      "=================================================================\n",
      "embedding (Embedding)        (None, None, 16)          160000    \n",
      "_________________________________________________________________\n",
      "global_average_pooling1d (Gl (None, 16)                0         \n",
      "_________________________________________________________________\n",
      "dense (Dense)                (None, 16)                272       \n",
      "_________________________________________________________________\n",
      "dense_1 (Dense)              (None, 1)                 17        \n",
      "=================================================================\n",
      "Total params: 160,289\n",
      "Trainable params: 160,289\n",
      "Non-trainable params: 0\n",
      "_________________________________________________________________\n"
     ]
    }
   ],
   "source": [
    "# 입력 크기는 영화 리뷰 데이터셋에 적용된 어휘 사전의 크기입니다(10,000개의 단어)\n",
    "vocab_size = 10000\n",
    "\n",
    "model = keras.Sequential()\n",
    "model.add(keras.layers.Embedding(vocab_size, 16, input_shape=(None,)))\n",
    "model.add(keras.layers.GlobalAveragePooling1D())\n",
    "model.add(keras.layers.Dense(16, activation='relu'))\n",
    "model.add(keras.layers.Dense(1, activation='sigmoid'))\n",
    "\n",
    "model.summary()"
   ]
  },
  {
   "cell_type": "code",
   "execution_count": 12,
   "id": "2ae8026f",
   "metadata": {},
   "outputs": [],
   "source": [
    "model.compile(optimizer='adam',\n",
    "              loss='binary_crossentropy',\n",
    "              metrics=['accuracy'])"
   ]
  },
  {
   "cell_type": "code",
   "execution_count": 13,
   "id": "e10c9000",
   "metadata": {},
   "outputs": [],
   "source": [
    "x_val = train_data[:10000]\n",
    "partial_x_train = train_data[10000:]\n",
    "\n",
    "y_val = train_labels[:10000]\n",
    "partial_y_train = train_labels[10000:]"
   ]
  },
  {
   "cell_type": "code",
   "execution_count": 14,
   "id": "9192375b",
   "metadata": {},
   "outputs": [
    {
     "name": "stdout",
     "output_type": "stream",
     "text": [
      "Epoch 1/40\n",
      "30/30 [==============================] - 4s 10ms/step - loss: 0.6924 - accuracy: 0.5911 - val_loss: 0.6912 - val_accuracy: 0.5907\n",
      "Epoch 2/40\n",
      "30/30 [==============================] - 0s 6ms/step - loss: 0.6886 - accuracy: 0.6260 - val_loss: 0.6858 - val_accuracy: 0.7171\n",
      "Epoch 3/40\n",
      "30/30 [==============================] - 0s 6ms/step - loss: 0.6802 - accuracy: 0.7294 - val_loss: 0.6751 - val_accuracy: 0.7226\n",
      "Epoch 4/40\n",
      "30/30 [==============================] - 3s 110ms/step - loss: 0.6643 - accuracy: 0.7504 - val_loss: 0.6562 - val_accuracy: 0.7545\n",
      "Epoch 5/40\n",
      "30/30 [==============================] - 0s 6ms/step - loss: 0.6389 - accuracy: 0.7751 - val_loss: 0.6283 - val_accuracy: 0.7705\n",
      "Epoch 6/40\n",
      "30/30 [==============================] - 0s 6ms/step - loss: 0.6035 - accuracy: 0.7939 - val_loss: 0.5922 - val_accuracy: 0.7895\n",
      "Epoch 7/40\n",
      "30/30 [==============================] - 0s 5ms/step - loss: 0.5609 - accuracy: 0.8156 - val_loss: 0.5513 - val_accuracy: 0.8065\n",
      "Epoch 8/40\n",
      "30/30 [==============================] - 0s 6ms/step - loss: 0.5150 - accuracy: 0.8333 - val_loss: 0.5099 - val_accuracy: 0.8216\n",
      "Epoch 9/40\n",
      "30/30 [==============================] - 0s 6ms/step - loss: 0.4698 - accuracy: 0.8493 - val_loss: 0.4702 - val_accuracy: 0.8349\n",
      "Epoch 10/40\n",
      "30/30 [==============================] - 3s 111ms/step - loss: 0.4280 - accuracy: 0.8627 - val_loss: 0.4356 - val_accuracy: 0.8450\n",
      "Epoch 11/40\n",
      "30/30 [==============================] - 0s 6ms/step - loss: 0.3916 - accuracy: 0.8737 - val_loss: 0.4068 - val_accuracy: 0.8533\n",
      "Epoch 12/40\n",
      "30/30 [==============================] - 0s 6ms/step - loss: 0.3606 - accuracy: 0.8825 - val_loss: 0.3833 - val_accuracy: 0.8594\n",
      "Epoch 13/40\n",
      "30/30 [==============================] - 0s 5ms/step - loss: 0.3345 - accuracy: 0.8891 - val_loss: 0.3643 - val_accuracy: 0.8640\n",
      "Epoch 14/40\n",
      "30/30 [==============================] - 0s 6ms/step - loss: 0.3125 - accuracy: 0.8939 - val_loss: 0.3495 - val_accuracy: 0.8671\n",
      "Epoch 15/40\n",
      "30/30 [==============================] - 0s 6ms/step - loss: 0.2934 - accuracy: 0.9005 - val_loss: 0.3366 - val_accuracy: 0.8723\n",
      "Epoch 16/40\n",
      "30/30 [==============================] - 3s 111ms/step - loss: 0.2768 - accuracy: 0.9047 - val_loss: 0.3266 - val_accuracy: 0.8748\n",
      "Epoch 17/40\n",
      "30/30 [==============================] - 0s 6ms/step - loss: 0.2619 - accuracy: 0.9094 - val_loss: 0.3184 - val_accuracy: 0.8770\n",
      "Epoch 18/40\n",
      "30/30 [==============================] - 0s 6ms/step - loss: 0.2486 - accuracy: 0.9144 - val_loss: 0.3115 - val_accuracy: 0.8779\n",
      "Epoch 19/40\n",
      "30/30 [==============================] - 0s 7ms/step - loss: 0.2367 - accuracy: 0.9188 - val_loss: 0.3054 - val_accuracy: 0.8799\n",
      "Epoch 20/40\n",
      "30/30 [==============================] - 0s 7ms/step - loss: 0.2255 - accuracy: 0.9235 - val_loss: 0.3008 - val_accuracy: 0.8817\n",
      "Epoch 21/40\n",
      "30/30 [==============================] - 3s 108ms/step - loss: 0.2156 - accuracy: 0.9250 - val_loss: 0.2968 - val_accuracy: 0.8814\n",
      "Epoch 22/40\n",
      "30/30 [==============================] - 0s 7ms/step - loss: 0.2061 - accuracy: 0.9288 - val_loss: 0.2943 - val_accuracy: 0.8826\n",
      "Epoch 23/40\n",
      "30/30 [==============================] - 0s 7ms/step - loss: 0.1981 - accuracy: 0.9327 - val_loss: 0.2910 - val_accuracy: 0.8843\n",
      "Epoch 24/40\n",
      "30/30 [==============================] - 0s 10ms/step - loss: 0.1892 - accuracy: 0.9353 - val_loss: 0.2890 - val_accuracy: 0.8847\n",
      "Epoch 25/40\n",
      "30/30 [==============================] - 3s 117ms/step - loss: 0.1815 - accuracy: 0.9401 - val_loss: 0.2876 - val_accuracy: 0.8844\n",
      "Epoch 26/40\n",
      "30/30 [==============================] - 0s 6ms/step - loss: 0.1747 - accuracy: 0.9424 - val_loss: 0.2868 - val_accuracy: 0.8843\n",
      "Epoch 27/40\n",
      "30/30 [==============================] - 0s 6ms/step - loss: 0.1675 - accuracy: 0.9467 - val_loss: 0.2863 - val_accuracy: 0.8842\n",
      "Epoch 28/40\n",
      "30/30 [==============================] - 0s 6ms/step - loss: 0.1611 - accuracy: 0.9486 - val_loss: 0.2854 - val_accuracy: 0.8859\n",
      "Epoch 29/40\n",
      "30/30 [==============================] - 0s 6ms/step - loss: 0.1549 - accuracy: 0.9515 - val_loss: 0.2855 - val_accuracy: 0.8863\n",
      "Epoch 30/40\n",
      "30/30 [==============================] - 0s 6ms/step - loss: 0.1494 - accuracy: 0.9542 - val_loss: 0.2862 - val_accuracy: 0.8863\n",
      "Epoch 31/40\n",
      "30/30 [==============================] - 3s 111ms/step - loss: 0.1438 - accuracy: 0.9553 - val_loss: 0.2868 - val_accuracy: 0.8862\n",
      "Epoch 32/40\n",
      "30/30 [==============================] - 0s 6ms/step - loss: 0.1384 - accuracy: 0.9585 - val_loss: 0.2885 - val_accuracy: 0.8855\n",
      "Epoch 33/40\n",
      "30/30 [==============================] - 0s 6ms/step - loss: 0.1335 - accuracy: 0.9612 - val_loss: 0.2887 - val_accuracy: 0.8875\n",
      "Epoch 34/40\n",
      "30/30 [==============================] - 0s 6ms/step - loss: 0.1286 - accuracy: 0.9620 - val_loss: 0.2906 - val_accuracy: 0.8871\n",
      "Epoch 35/40\n",
      "30/30 [==============================] - 0s 6ms/step - loss: 0.1239 - accuracy: 0.9643 - val_loss: 0.2917 - val_accuracy: 0.8855\n",
      "Epoch 36/40\n",
      "30/30 [==============================] - 0s 5ms/step - loss: 0.1194 - accuracy: 0.9666 - val_loss: 0.2934 - val_accuracy: 0.8858\n",
      "Epoch 37/40\n",
      "30/30 [==============================] - 3s 110ms/step - loss: 0.1154 - accuracy: 0.9675 - val_loss: 0.2957 - val_accuracy: 0.8833\n",
      "Epoch 38/40\n",
      "30/30 [==============================] - 0s 6ms/step - loss: 0.1110 - accuracy: 0.9690 - val_loss: 0.2981 - val_accuracy: 0.8862\n",
      "Epoch 39/40\n",
      "30/30 [==============================] - 0s 6ms/step - loss: 0.1071 - accuracy: 0.9703 - val_loss: 0.3003 - val_accuracy: 0.8848\n",
      "Epoch 40/40\n",
      "30/30 [==============================] - 0s 6ms/step - loss: 0.1034 - accuracy: 0.9717 - val_loss: 0.3032 - val_accuracy: 0.8847\n"
     ]
    }
   ],
   "source": [
    "history = model.fit(partial_x_train,\n",
    "                    partial_y_train,\n",
    "                    epochs=40,\n",
    "                    batch_size=512,\n",
    "                    validation_data=(x_val, y_val),\n",
    "                    verbose=1)"
   ]
  },
  {
   "cell_type": "code",
   "execution_count": 15,
   "id": "656ddcc0",
   "metadata": {},
   "outputs": [
    {
     "name": "stdout",
     "output_type": "stream",
     "text": [
      "782/782 - 4s - loss: 0.3221 - accuracy: 0.8725\n",
      "[0.3220960795879364, 0.8724799752235413]\n"
     ]
    }
   ],
   "source": [
    "results = model.evaluate(test_data,  test_labels, verbose=2)\n",
    "\n",
    "print(results)"
   ]
  },
  {
   "cell_type": "code",
   "execution_count": 16,
   "id": "19da3605",
   "metadata": {},
   "outputs": [
    {
     "data": {
      "text/plain": [
       "dict_keys(['loss', 'accuracy', 'val_loss', 'val_accuracy'])"
      ]
     },
     "execution_count": 16,
     "metadata": {},
     "output_type": "execute_result"
    }
   ],
   "source": [
    "history_dict = history.history\n",
    "history_dict.keys()"
   ]
  },
  {
   "cell_type": "code",
   "execution_count": 17,
   "id": "4b8269a8",
   "metadata": {},
   "outputs": [
    {
     "data": {
      "image/png": "[encoded data removed]",
      "text/plain": [
       "<Figure size 432x288 with 1 Axes>"
      ]
     },
     "metadata": {
      "needs_background": "light"
     },
     "output_type": "display_data"
    }
   ],
   "source": [
    "import matplotlib.pyplot as plt\n",
    "\n",
    "acc = history_dict['accuracy']\n",
    "val_acc = history_dict['val_accuracy']\n",
    "loss = history_dict['loss']\n",
    "val_loss = history_dict['val_loss']\n",
    "\n",
    "epochs = range(1, len(acc) + 1)\n",
    "\n",
    "# \"bo\"는 \"파란색 점\"입니다\n",
    "plt.plot(epochs, loss, 'bo', label='Training loss')\n",
    "# b는 \"파란 실선\"입니다\n",
    "plt.plot(epochs, val_loss, 'b', label='Validation loss')\n",
    "plt.title('Training and validation loss')\n",
    "plt.xlabel('Epochs')\n",
    "plt.ylabel('Loss')\n",
    "plt.legend()\n",
    "\n",
    "plt.show()"
   ]
  },
  {
   "cell_type": "code",
   "execution_count": 18,
   "id": "dbee3f99",
   "metadata": {},
   "outputs": [
    {
     "data": {
      "image/png": "[encoded data removed]",
      "text/plain": [
       "<Figure size 432x288 with 1 Axes>"
      ]
     },
     "metadata": {
      "needs_background": "light"
     },
     "output_type": "display_data"
    }
   ],
   "source": [
    "plt.clf()   # 그림을 초기화합니다\n",
    "\n",
    "plt.plot(epochs, acc, 'bo', label='Training acc')\n",
    "plt.plot(epochs, val_acc, 'b', label='Validation acc')\n",
    "plt.title('Training and validation accuracy')\n",
    "plt.xlabel('Epochs')\n",
    "plt.ylabel('Accuracy')\n",
    "plt.legend()\n",
    "\n",
    "plt.show()"
   ]
  }
 ],
 "metadata": {
  "kernelspec": {
   "display_name": "Python 3.9.12 ('crp')",
   "language": "python",
   "name": "python3"
  },
  "language_info": {
   "codemirror_mode": {
    "name": "ipython",
    "version": 3
   },
   "file_extension": ".py",
   "mimetype": "text/x-python",
   "name": "python",
   "nbconvert_exporter": "python",
   "pygments_lexer": "ipython3",
   "version": "3.9.12"
  },
  "vscode": {
   "interpreter": {
    "hash": "511214cec508f3bbd0fc5e5ea74245331bad743abbf31b65744ed84e924b8d2c"
   }
  }
 },
 "nbformat": 4,
 "nbformat_minor": 5
}
