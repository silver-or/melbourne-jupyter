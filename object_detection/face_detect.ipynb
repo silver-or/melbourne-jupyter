{
 "cells": [
  {
   "cell_type": "code",
   "execution_count": 10,
   "metadata": {},
   "outputs": [],
   "source": [
    "import cv2\n",
    "bounding_box='../data/haarcascade_frontalface_alt.xml'\n",
    "girl = '../data/girl.jpg'\n",
    "cascade = cv2.CascadeClassifier(bounding_box)"
   ]
  },
  {
   "cell_type": "code",
   "execution_count": 11,
   "metadata": {},
   "outputs": [],
   "source": [
    "img = cv2.imread(girl)\n",
    "face = cascade.detectMultiScale(img, minSize=(150, 150))"
   ]
  },
  {
   "cell_type": "code",
   "execution_count": 12,
   "metadata": {},
   "outputs": [
    {
     "name": "stdout",
     "output_type": "stream",
     "text": [
      "얼굴의 좌표 :  319 308 405 405\n"
     ]
    }
   ],
   "source": [
    "if len(face) == 0:\n",
    "    print('얼굴 인식 실패')\n",
    "    quit()\n",
    "for(x, y, w, h) in face:\n",
    "    print('얼굴의 좌표 : ', x, y, w, h)\n",
    "    red = (0, 0, 255)\n",
    "    cv2.rectangle(img, (x, y), (x + w, y + h), red, thickness=20)  # 설정값 : 외부에서 주어지는 하이퍼파라미터"
   ]
  },
  {
   "cell_type": "code",
   "execution_count": 13,
   "metadata": {},
   "outputs": [
    {
     "data": {
      "text/plain": [
       "True"
      ]
     },
     "execution_count": 13,
     "metadata": {},
     "output_type": "execute_result"
    }
   ],
   "source": [
    "cv2.imwrite('../save/girl-face.png', img)"
   ]
  },
  {
   "cell_type": "code",
   "execution_count": 14,
   "metadata": {},
   "outputs": [],
   "source": [
    "# cv2.imshow('girl-face', img)\n",
    "cv2.waitKey(0)\n",
    "cv2.destroyAllWindows()"
   ]
  },
  {
   "cell_type": "code",
   "execution_count": 18,
   "metadata": {},
   "outputs": [],
   "source": [
    "def mosaic(img, rect, size):  # bounding box는 기존의 것을 가져다 쓰고, 모자이크는 직접 코딩한다.\n",
    "    (x1, y1, x2, y2) = rect\n",
    "    w = x2 - x1\n",
    "    h = y2 - y1\n",
    "    i_rect = img[y1:y2, x1:x2]\n",
    "    i_small = cv2.resize(i_rect, (size, size))\n",
    "    i_mos = cv2.resize(i_small, (w, h), interpolation=cv2.INTER_AREA)\n",
    "    img2 = img.copy()\n",
    "    img2[y1:y2, x1:x2] = i_mos\n",
    "    return img2"
   ]
  },
  {
   "cell_type": "code",
   "execution_count": 22,
   "metadata": {},
   "outputs": [
    {
     "data": {
      "text/plain": [
       "True"
      ]
     },
     "execution_count": 22,
     "metadata": {},
     "output_type": "execute_result"
    }
   ],
   "source": [
    "for(x, y, w, h) in face:\n",
    "    rect = (x, y, x + w, y + h)\n",
    "    size = 10\n",
    "    img_mosaic = mosaic(img, rect, size)\n",
    "\n",
    "cv2.imwrite('../save/girl-mosaic.png', img_mosaic)"
   ]
  },
  {
   "cell_type": "code",
   "execution_count": null,
   "metadata": {},
   "outputs": [],
   "source": [
    "# cv2.imshow('girl-mosaic', img_mosaic)\n",
    "cv2.waitKey(0)\n",
    "cv2.destroyAllWindows()"
   ]
  }
 ],
 "metadata": {
  "kernelspec": {
   "display_name": "Python 3.9.12 ('crp')",
   "language": "python",
   "name": "python3"
  },
  "language_info": {
   "codemirror_mode": {
    "name": "ipython",
    "version": 3
   },
   "file_extension": ".py",
   "mimetype": "text/x-python",
   "name": "python",
   "nbconvert_exporter": "python",
   "pygments_lexer": "ipython3",
   "version": "3.9.12"
  },
  "orig_nbformat": 4,
  "vscode": {
   "interpreter": {
    "hash": "511214cec508f3bbd0fc5e5ea74245331bad743abbf31b65744ed84e924b8d2c"
   }
  }
 },
 "nbformat": 4,
 "nbformat_minor": 2
}
