{
 "cells": [
  {
   "cell_type": "code",
   "execution_count": 3,
   "metadata": {},
   "outputs": [],
   "source": [
    "import cv2\n",
    "cat = '../data/cat.jpg'"
   ]
  },
  {
   "cell_type": "code",
   "execution_count": 4,
   "metadata": {},
   "outputs": [],
   "source": [
    "def mosaic(img, rect, size):  # bounding box는 기존의 것을 가져다 쓰고, 모자이크는 직접 코딩한다.\n",
    "    (x1, y1, x2, y2) = rect\n",
    "    w = x2 - x1\n",
    "    h = y2 - y1\n",
    "    i_rect = img[y1:y2, x1:x2]\n",
    "    i_small = cv2.resize(i_rect, (size, size))\n",
    "    i_mos = cv2.resize(i_small, (w, h), interpolation=cv2.INTER_AREA)\n",
    "    img2 = img.copy()\n",
    "    img2[y1:y2, x1:x2] = i_mos\n",
    "    return img2"
   ]
  },
  {
   "cell_type": "code",
   "execution_count": 5,
   "metadata": {},
   "outputs": [
    {
     "data": {
      "text/plain": [
       "True"
      ]
     },
     "execution_count": 5,
     "metadata": {},
     "output_type": "execute_result"
    }
   ],
   "source": [
    "img = cv2.imread(cat, cv2.IMREAD_COLOR)\n",
    "rect = (50, 50, 450, 450)\n",
    "size = 10\n",
    "mos = mosaic(img, rect, size)\n",
    "cv2.imwrite('../save/cat-mosaic.png', mos)"
   ]
  }
 ],
 "metadata": {
  "kernelspec": {
   "display_name": "Python 3.9.12 ('crp')",
   "language": "python",
   "name": "python3"
  },
  "language_info": {
   "codemirror_mode": {
    "name": "ipython",
    "version": 3
   },
   "file_extension": ".py",
   "mimetype": "text/x-python",
   "name": "python",
   "nbconvert_exporter": "python",
   "pygments_lexer": "ipython3",
   "version": "3.9.12"
  },
  "orig_nbformat": 4,
  "vscode": {
   "interpreter": {
    "hash": "511214cec508f3bbd0fc5e5ea74245331bad743abbf31b65744ed84e924b8d2c"
   }
  }
 },
 "nbformat": 4,
 "nbformat_minor": 2
}
